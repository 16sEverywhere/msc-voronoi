{
 "cells": [
  {
   "cell_type": "markdown",
   "id": "5d0ef4bc",
   "metadata": {},
   "source": [
    "# Concept and idea\n",
    "The general idea has not changed in this iteration.\n",
    "\n",
    "Get a series of points for a shape, i.e. point cloud data, or a 2d version \n",
    "can the tesselation of voronoi work to put them in an order?\n",
    "\n",
    "Start by creating a series of points and from those points a delaunay triangulation\n",
    "## Convex hull \n",
    "A convex hull takes all the points generated from a all points given and will produce an object containing all points in a given point set, i.e. the outline of the shape. This might be of use here for the shaping of objects.\n",
    "\n",
    "### Rough idea for this:\n",
    "- Create a series of points and from those produce polygons\n",
    "- These polygons will fit together and form a shape\n",
    "- Display the polygons in a graph\n",
    "- Isolate just one polygons to see what it would look like\n",
    "- Randomly remove a polygon set\n",
    "- Without changing the shape or proportion of the triangles make them all so that display at the same co-ords (or near enough)\n",
    "- Work out what the seed points for the polygons would be and see if using voronoi tesselation can put them in a position where they match the original graph"
   ]
  },
  {
   "cell_type": "code",
   "execution_count": 1,
   "id": "28c22831",
   "metadata": {},
   "outputs": [],
   "source": [
    "import numpy as np\n",
    "import matplotlib.pyplot as plt\n",
    "from matplotlib.patches import Polygon\n",
    "from scipy.spatial import Voronoi, voronoi_plot_2d\n",
    "from scipy.spatial import Delaunay"
   ]
  },
  {
   "cell_type": "code",
   "execution_count": 6,
   "id": "1b4a8e48",
   "metadata": {
    "scrolled": false
   },
   "outputs": [
    {
     "data": {
      "image/png": "[encoded data removed]",
      "text/plain": [
       "<Figure size 432x288 with 1 Axes>"
      ]
     },
     "metadata": {
      "needs_background": "light"
     },
     "output_type": "display_data"
    }
   ],
   "source": [
    "\"\"\"\n",
    "- Create a series of points and from those produce polygons\n",
    "- These polygons will fit together and form a shape\n",
    "- Display the polygons in a graph\n",
    "\"\"\"\n",
    "\n",
    "# Define points for multiple polygons\n",
    "polygon1_points = [(1, 1), (2, 3), (3, 2), (2, 1)]\n",
    "polygon2_points = [(1,1), (2,3), (1,3), (1,1.5)]\n",
    "polygon3_points = [(2, 3), (3, 2), (3, 3), (2.5, 4)]\n",
    "polygon4_points = [(2, 1), (2.5, 0.5), (4, 1), (3, 2)]\n",
    "polygon5_points = [(4, 1), (3, 2), (3, 3), (3.5, 4)]\n",
    "polygon6_points = [(1, 3), (0.5, 4), (1, 5), (2.5, 4)]\n",
    "polygon7_points = [(3, 3), (3.5, 4), (3, 5), (2.5, 4)]\n",
    "\n",
    "# Create Polygon objects\n",
    "polygon1 = Polygon(polygon1_points, closed=True, fill=None, edgecolor='r')\n",
    "polygon2 = Polygon(polygon2_points, closed=True, fill=None, edgecolor='g')\n",
    "polygon3 = Polygon(polygon3_points, closed=True, fill=None, edgecolor='b')\n",
    "polygon4 = Polygon(polygon4_points, closed=True, fill=None, edgecolor='yellow')\n",
    "polygon5 = Polygon(polygon5_points, closed=True, fill=None, edgecolor='orange')\n",
    "polygon6 = Polygon(polygon6_points, closed=True, fill=None, edgecolor='purple')\n",
    "polygon7 = Polygon(polygon7_points, closed=True, fill=None, edgecolor='purple')\n",
    "\n",
    "# Plot polygons\n",
    "plt.gca().add_patch(polygon1)\n",
    "plt.gca().add_patch(polygon2)\n",
    "plt.gca().add_patch(polygon3)\n",
    "plt.gca().add_patch(polygon4)\n",
    "plt.gca().add_patch(polygon5)\n",
    "plt.gca().add_patch(polygon6)\n",
    "plt.gca().add_patch(polygon7)\n",
    "\n",
    "# Function to calculate centroid of a polygon\n",
    "def calculate_centroid(points):\n",
    "    x = [p[0] for p in points]\n",
    "    y = [p[1] for p in points]\n",
    "    centroid_x = np.mean(x)\n",
    "    centroid_y = np.mean(y)\n",
    "    return centroid_x, centroid_y\n",
    "\n",
    "# Calculate centroids for each polygon\n",
    "centroids = [calculate_centroid(points) for points in [polygon1.xy, polygon2.xy, polygon3.xy,polygon4.xy,polygon5.xy,polygon6.xy,polygon7.xy]]\n",
    "\n",
    "# Extract x and y coordinates of centroids\n",
    "centroids_x = [centroid[0] for centroid in centroids]\n",
    "centroids_y = [centroid[1] for centroid in centroids]\n",
    "\n",
    "# Plot points\n",
    "for polygon_points in [polygon2_points, polygon3_points, polygon4_points,polygon5_points,polygon6_points,polygon7_points]:\n",
    "    x = [point[0] for point in polygon_points]\n",
    "    y = [point[1] for point in polygon_points]\n",
    "    plt.scatter(x, y)\n",
    "\n",
    "    \n",
    "# Plot centroids\n",
    "plt.scatter(centroids_x, centroids_y, color='red', marker='o')\n",
    "\n",
    "\n",
    "# Set plot limits\n",
    "plt.xlim(0, 7)\n",
    "plt.ylim(0, 7)\n",
    "\n",
    "plt.show()\n"
   ]
  },
  {
   "cell_type": "code",
   "execution_count": 9,
   "id": "2a027478",
   "metadata": {
    "scrolled": false
   },
   "outputs": [
    {
     "name": "stdout",
     "output_type": "stream",
     "text": [
      "Centroids: [(1.6666666666666667, 1.3333333333333333), (1.5, 2.125), (1.5, 3.25), (2.3, 3.4), (2.125, 2.5), (2.5, 1.7), (3.25, 2.0833333333333335), (3.5, 3.5)]\n"
     ]
    },
    {
     "data": {
      "image/png": "[encoded data removed]",
      "text/plain": [
       "<Figure size 432x288 with 1 Axes>"
      ]
     },
     "metadata": {
      "needs_background": "light"
     },
     "output_type": "display_data"
    },
    {
     "name": "stdout",
     "output_type": "stream",
     "text": [
      "Path(array([[1., 1.],\n",
      "       [2., 1.],\n",
      "       [2., 2.],\n",
      "       [1., 1.]]), array([ 1,  2,  2, 79], dtype=uint8))\n"
     ]
    }
   ],
   "source": [
    "def compute_centroid(polygon):\n",
    "    # Extract x and y coordinates of polygon vertices\n",
    "    x_coords = [point[0] for point in polygon]\n",
    "    y_coords = [point[1] for point in polygon]\n",
    "    # Compute centroid\n",
    "    centroid_x = np.mean(x_coords)\n",
    "    centroid_y = np.mean(y_coords)\n",
    "    return (centroid_x, centroid_y)\n",
    "\n",
    "polygons = [\n",
    "    [(1,1),(2,1),(2,2)],\n",
    "    [(1,1),(2,2),(2,3),(1,2.5)],\n",
    "    [(1,2.5),(2,3),(2,3.5),(1,4)],\n",
    "    [(1,4),(2,3.5),(2.5,2.5),(3,3),(3,4)],\n",
    "    [(2,2),(2.5,2.5),(2,3.5),(2,2)],\n",
    "    [(2,1),(3,1),(3,2),(2.5,2.5),(2,2)],\n",
    "    [(3,1),(4,1),(4,3),(3,3),(2.5,2.5),(3,2)],\n",
    "    [(3,3),(4,3),(4,4),(3,4)]\n",
    "]\n",
    "\n",
    "# Create Polygon objects\n",
    "polygon1 = Polygon(polygons[0], closed=True, fill=None, edgecolor='red')\n",
    "polygon2 = Polygon(polygons[1], closed=True, fill=None, edgecolor='green')\n",
    "polygon3 = Polygon(polygons[2], closed=True, fill=None, edgecolor='blue')\n",
    "polygon4 = Polygon(polygons[3], closed=True, fill=None, edgecolor='yellow')\n",
    "polygon5 = Polygon(polygons[4], closed=True, fill=None, edgecolor='orange')\n",
    "polygon6 = Polygon(polygons[5], closed=True, fill=None, edgecolor='purple')\n",
    "polygon7 = Polygon(polygons[6], closed=True, fill=None, edgecolor='gold')\n",
    "polygon8 = Polygon(polygons[7], closed=True, fill=None, edgecolor='brown')\n",
    "\n",
    "polys = [polygon1,polygon2, polygon3, polygon4,polygon5,polygon6,polygon7,polygon8]\n",
    "\n",
    "# Plot polygons\n",
    "plt.gca().add_patch(polygon1)\n",
    "plt.gca().add_patch(polygon2)\n",
    "plt.gca().add_patch(polygon3)\n",
    "plt.gca().add_patch(polygon4)\n",
    "plt.gca().add_patch(polygon5)\n",
    "plt.gca().add_patch(polygon6)\n",
    "plt.gca().add_patch(polygon7)\n",
    "plt.gca().add_patch(polygon8)\n",
    "\n",
    "# Compute centroids for each polygon\n",
    "centroids = [compute_centroid(polygon) for polygon in polygons]\n",
    "\n",
    "# Extract x and y coordinates of centroids\n",
    "centroids_x = [centroid[0] for centroid in centroids]\n",
    "centroids_y = [centroid[1] for centroid in centroids]\n",
    "\n",
    "print(\"Centroids:\", centroids)\n",
    "# Plot centroids\n",
    "plt.scatter(centroids_x, centroids_y, color='red', marker='o')\n",
    "\n",
    "\n",
    "# Set plot limits\n",
    "plt.xlim(0, 7)\n",
    "plt.ylim(0, 7)\n",
    "\n",
    "plt.show()\n",
    "print(polygon1.get_path())"
   ]
  },
  {
   "cell_type": "code",
   "execution_count": 11,
   "id": "615fcac1",
   "metadata": {},
   "outputs": [
    {
     "data": {
      "image/png": "[encoded data removed]",
      "text/plain": [
       "<Figure size 432x288 with 1 Axes>"
      ]
     },
     "metadata": {
      "needs_background": "light"
     },
     "output_type": "display_data"
    }
   ],
   "source": [
    "import matplotlib.pyplot as plt\n",
    "from shapely.geometry import Polygon, Point\n",
    "\n",
    "# Example polygons\n",
    "polygon1 = Polygon([(1,4),(2,3.5),(2.5,2.5),(3,3),(3,4)])\n",
    "polygon2 = Polygon([(3,1),(4,1),(4,3),(3,3),(2.5,2.5),(3,2)])\n",
    "\n",
    "# Find the closest pair of points on the boundaries of the polygons\n",
    "closest_points = polygon1.boundary.interpolate(polygon1.boundary.project(polygon2.centroid))\n",
    "\n",
    "# Calculate the midpoint between the closest points\n",
    "midpoint = Point((closest_points.x + polygon2.centroid.x) / 2, (closest_points.y + polygon2.centroid.y) / 2)\n",
    "\n",
    "# Plot polygons\n",
    "plt.figure()\n",
    "plt.plot(*polygon1.exterior.xy, label='Polygon 1', color='blue')\n",
    "plt.plot(*polygon2.exterior.xy, label='Polygon 2', color='green')\n",
    "\n",
    "# Plot midpoint\n",
    "plt.plot(midpoint.x, midpoint.y, 'ro', label='Midpoint')\n",
    "\n",
    "# Set plot limits\n",
    "plt.xlim(0, 5)\n",
    "plt.ylim(0, 4)\n",
    "\n",
    "plt.gca().set_aspect('equal', adjustable='box')\n",
    "plt.legend()\n",
    "plt.grid(True)\n",
    "plt.show()\n"
   ]
  },
  {
   "cell_type": "code",
   "execution_count": 5,
   "id": "40eaa6a1",
   "metadata": {},
   "outputs": [
    {
     "data": {
      "image/png": "[encoded data removed]",
      "text/plain": [
       "<Figure size 432x288 with 1 Axes>"
      ]
     },
     "metadata": {
      "needs_background": "light"
     },
     "output_type": "display_data"
    }
   ],
   "source": [
    "centroids_combined = [(x, y) for x, y in zip(centroids_x, centroids_y)]\n",
    "vor = Voronoi(centroids_combined)\n",
    "# Plot\n",
    "voronoi_plot_2d(vor)\n",
    "plt.show()"
   ]
  },
  {
   "cell_type": "code",
   "execution_count": null,
   "id": "debe3db5",
   "metadata": {
    "scrolled": true
   },
   "outputs": [],
   "source": [
    "\"\"\"\n",
    "- Without changing the shape or proportion of the triangles make them all so that display at the same co-ords (or near enough)\n",
    "\"\"\"\n",
    "\n",
    "# Define points for multiple polygons (without specifying origin)\n",
    "polygon1_points = [(0, 0), (1, 2), (2, 1), (1, 0)]\n",
    "polygon2_points = [(0, 0), (1, 2), (0, 2), (0, 1.5)]\n",
    "polygon3_points = [(1, 2), (2, 1), (2, 2), (1.5, 3)]\n",
    "polygon4_points = [(1, 0), (1.5, -0.5), (3, 0), (2, 1)]\n",
    "polygon5_points = [(3, 0), (2, 1), (2, 2), (2.5, 3)]\n",
    "polygon6_points = [(0, 2), (-0.5, 3), (0, 4), (1.5, 3)]\n",
    "polygon7_points = [(2, 2), (2.5, 3), (2, 4), (1.5, 3)]\n",
    "\n",
    "# Function to shift polygon points by a given offset\n",
    "def shift_polygon(points, offset):\n",
    "    return [(point[0] + offset[0], point[1] + offset[1]) for point in points]\n",
    "\n",
    "# Create shifted polygon points\n",
    "shifted_polygons = [\n",
    "    shift_polygon(polygon1_points, (1, 1)),\n",
    "    shift_polygon(polygon2_points, (2, 2)),\n",
    "    shift_polygon(polygon3_points, (3, 3)),\n",
    "    shift_polygon(polygon4_points, (4, 1)),\n",
    "    shift_polygon(polygon5_points, (5, 1)),\n",
    "    shift_polygon(polygon6_points, (6, 2)),\n",
    "    shift_polygon(polygon7_points, (7, 3))\n",
    "]\n",
    "\n",
    "# Function to calculate centroid of a polygon\n",
    "def calculate_centroid(points):\n",
    "    x = [p[0] for p in points]\n",
    "    y = [p[1] for p in points]\n",
    "    centroid_x = np.mean(x)\n",
    "    centroid_y = np.mean(y)\n",
    "    return centroid_x, centroid_y\n",
    "\n",
    "# Calculate centroids for each polygon\n",
    "centroids = [calculate_centroid(points) for points in [shifted_polygons[0], shifted_polygons[1], shifted_polygons[2], shifted_polygons[3], shifted_polygons[4], shifted_polygons[5], shifted_polygons[6]]]\n",
    "\n",
    "# Extract x and y coordinates of centroids\n",
    "centroids_x = [centroid[0] for centroid in centroids]\n",
    "centroids_y = [centroid[1] for centroid in centroids]\n",
    "\n",
    "# Create Polygon objects\n",
    "polygons = [Polygon(points, closed=True, fill=None) for points in shifted_polygons]\n",
    "\n",
    "# Plot polygons\n",
    "plt.figure()\n",
    "for polygon in polygons:\n",
    "    plt.gca().add_patch(polygon)\n",
    "# Plot centroids\n",
    "plt.scatter(centroids_x, centroids_y, color='red', marker='o')\n",
    "# Set plot limits\n",
    "plt.xlim(0, 10)\n",
    "plt.ylim(0, 10)\n",
    "\n",
    "plt.show()\n"
   ]
  },
  {
   "cell_type": "code",
   "execution_count": null,
   "id": "1a953003",
   "metadata": {},
   "outputs": [],
   "source": []
  },
  {
   "cell_type": "code",
   "execution_count": null,
   "id": "c812dd13",
   "metadata": {},
   "outputs": [],
   "source": [
    "import numpy as np\n",
    "import matplotlib.pyplot as plt\n",
    "from shapely.geometry import Polygon\n",
    "\n",
    "# Create a list of points (x, y)\n",
    "polygon1_points = [(1, 1), (2, 3), (3, 2), (2, 1)]\n",
    "polygon2_points = [(1,1), (2,3), (1,3), (1,1.5)]\n",
    "polygon3_points = [(2, 3), (3, 2), (3, 3), (2.5, 4)]\n",
    "polygon4_points = [(2, 1), (2.5, 0.5), (4, 1), (3, 2)]\n",
    "polygon5_points = [(4, 1), (3, 2), (3, 3), (3.5, 4)]\n",
    "polygon6_points = [(1, 3), (0.5, 4), (1, 5), (2.5, 4)]\n",
    "polygon7_points = [(3, 3), (3.5, 4), (3, 5), (2.5, 4)]\n",
    "\n",
    "# Create a Shapely Polygon object\n",
    "#polygon = Polygon(points)\n",
    "\n",
    "def create_polygons(*points):\n",
    "    polys = []\n",
    "    for x in points:\n",
    "        polys.append(Polygon(x))\n",
    "    return polys\n",
    "\n",
    "def get_coords(pol):\n",
    "    xycords = []\n",
    "    for apol in pol:\n",
    "        print(\"apol \"+str(apol))\n",
    "        x, y = apol.exterior.xy\n",
    "        xycords.append((x,y))\n",
    "    print(\"xycords is: \"+str(xycords))\n",
    "    return xycords\n",
    "\n",
    "def create_plt(cord_sets):\n",
    "    print(\"cord_set is: \" +str(cord_sets))\n",
    "    for pts in cord_sets:\n",
    "        plt.plot(pts[0], pts[1])\n",
    "        plt.scatter(*zip(*pts))   \n",
    "        \n",
    "pols = create_polygons(polygon1_points,polygon2_points,polygon3_points,polygon4_points,polygon5_points,polygon6_points,polygon7_points)\n",
    "#pols = create_polygons(polygon1_points)\n",
    "coords = get_coords(pols)\n",
    "\n",
    "for coords in [pols]:\n",
    "    x, y = zip(*coords)  # Unzip coordinates\n",
    "    plt.plot(x, y)\n",
    "    plt.fill(x, y, alpha=0.3)  # Fill the polygon area\n",
    "    \n",
    "#create_plt(coords)\n",
    "#print(coords)\n",
    "# Plot the polygon\n",
    "#plt.plot(x, y)\n",
    "\n",
    "# Plot the points\n",
    "#plt.scatter(*zip(*points))\n",
    "\n",
    "#plt.show()\n"
   ]
  }
 ],
 "metadata": {
  "kernelspec": {
   "display_name": "Python 3 (ipykernel)",
   "language": "python",
   "name": "python3"
  },
  "language_info": {
   "codemirror_mode": {
    "name": "ipython",
    "version": 3
   },
   "file_extension": ".py",
   "mimetype": "text/x-python",
   "name": "python",
   "nbconvert_exporter": "python",
   "pygments_lexer": "ipython3",
   "version": "3.9.19"
  }
 },
 "nbformat": 4,
 "nbformat_minor": 5
}
